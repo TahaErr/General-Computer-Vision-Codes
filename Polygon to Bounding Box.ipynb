{
 "cells": [
  {
   "cell_type": "code",
   "execution_count": 1,
   "id": "e22a7030-48d2-4389-90a1-4273678547c6",
   "metadata": {},
   "outputs": [],
   "source": [
    "# Converting polygon labels to bounding box \n",
    "#Only for yolov8 and above projects."
   ]
  },
  {
   "cell_type": "code",
   "execution_count": 2,
   "id": "8b76c4fd-bdf7-4354-87aa-0bc64bca56b5",
   "metadata": {},
   "outputs": [
    {
     "name": "stdout",
     "output_type": "stream",
     "text": [
      "Anotasyonlar başarıyla YOLO bounding box formatına dönüştürüldü.\n"
     ]
    }
   ],
   "source": [
    "import os\n",
    "\n",
    "def polygon_to_bbox(points):\n",
    "    x_coords = [point[0] for point in points]\n",
    "    y_coords = [point[1] for point in points]\n",
    "    x_min, x_max = min(x_coords), max(x_coords)\n",
    "    y_min, y_max = min(y_coords), max(y_coords)\n",
    "    return x_min, y_min, x_max, y_max\n",
    "\n",
    "def convert_annotations(input_folder, output_folder):\n",
    "    if not os.path.exists(output_folder):\n",
    "        os.makedirs(output_folder)\n",
    "\n",
    "    for filename in os.listdir(input_folder):\n",
    "        if filename.endswith(\".txt\"):\n",
    "            input_path = os.path.join(input_folder, filename)\n",
    "            output_path = os.path.join(output_folder, filename)\n",
    "\n",
    "            with open(input_path, 'r') as file:\n",
    "                lines = file.readlines()\n",
    "\n",
    "            with open(output_path, 'w') as file:\n",
    "                for line in lines:\n",
    "                    values = line.strip().split()\n",
    "                    class_id = values[0]\n",
    "                    polygon = list(map(float, values[1:]))\n",
    "\n",
    "                    # Poligon noktalarını (x,y) çiftlerine ayır\n",
    "                    points = [(polygon[i], polygon[i + 1]) for i in range(0, len(polygon), 2)]\n",
    "\n",
    "                    # Bounding box koordinatlarını al\n",
    "                    x_min, y_min, x_max, y_max = polygon_to_bbox(points)\n",
    "\n",
    "                    # YOLO formatına göre x_center, y_center, width, height hesapla\n",
    "                    x_center = (x_min + x_max) / 2\n",
    "                    y_center = (y_min + y_max) / 2\n",
    "                    width = x_max - x_min\n",
    "                    height = y_max - y_min\n",
    "\n",
    "                    # Değerler zaten normalize edilmiş olduğundan, direkt yazabiliriz\n",
    "                    file.write(f\"{class_id} {x_center} {y_center} {width} {height}\\n\")\n",
    "\n",
    "    print(\"Anotasyonlar başarıyla YOLO bounding box formatına dönüştürüldü.\")\n",
    "\n",
    "\n",
    "input_folder = r'D:\\4-thesis-1920x1080-boundingbox\\train\\labels'\n",
    "output_folder = r'D:\\4-thesis-1920x1080-boundingbox\\train\\bb'\n",
    "convert_annotations(input_folder, output_folder)\n"
   ]
  },
  {
   "cell_type": "code",
   "execution_count": null,
   "id": "7571acb6-ecb1-4fc4-b6e1-bf33580ab916",
   "metadata": {},
   "outputs": [],
   "source": []
  }
 ],
 "metadata": {
  "kernelspec": {
   "display_name": "Python 3 (ipykernel)",
   "language": "python",
   "name": "python3"
  },
  "language_info": {
   "codemirror_mode": {
    "name": "ipython",
    "version": 3
   },
   "file_extension": ".py",
   "mimetype": "text/x-python",
   "name": "python",
   "nbconvert_exporter": "python",
   "pygments_lexer": "ipython3",
   "version": "3.11.5"
  }
 },
 "nbformat": 4,
 "nbformat_minor": 5
}
